{
 "cells": [
  {
   "cell_type": "code",
   "execution_count": 24,
   "id": "56813285",
   "metadata": {},
   "outputs": [],
   "source": [
    "import pandas as pd\n",
    "from sklearn.model_selection import train_test_split\n",
    "from sklearn.preprocessing import StandardScaler\n",
    "from sklearn.decomposition import PCA\n",
    "from sklearn.ensemble import RandomForestClassifier\n",
    "from sklearn.svm import SVC\n",
    "from sklearn.metrics import accuracy_score, precision_score, recall_score, f1_score, confusion_matrix, classification_report\n",
    "import matplotlib.pyplot as plt\n",
    "import seaborn as sns\n",
    "import joblib"
   ]
  },
  {
   "cell_type": "code",
   "execution_count": 25,
   "id": "15abbf7a",
   "metadata": {},
   "outputs": [],
   "source": [
    "df = pd.read_csv('vocal_gender_features_new.csv')"
   ]
  },
  {
   "cell_type": "code",
   "execution_count": 26,
   "id": "1b24bd38",
   "metadata": {},
   "outputs": [],
   "source": [
    "X = df.drop('label', axis=1)\n",
    "y = df['label']"
   ]
  },
  {
   "cell_type": "code",
   "execution_count": 27,
   "id": "5715c625",
   "metadata": {},
   "outputs": [],
   "source": [
    "X_train, X_temp, y_train, y_temp = train_test_split(X, y, test_size=0.3, random_state=42, stratify=y)\n",
    "X_val, X_test, y_val, y_test = train_test_split(X_temp, y_temp, test_size=0.5, random_state=42, stratify=y_temp)\n"
   ]
  },
  {
   "cell_type": "code",
   "execution_count": 28,
   "id": "70a6cf7c",
   "metadata": {},
   "outputs": [],
   "source": [
    "# Normalize numerical features using StandardScaler\n",
    "# Fit scaler only on the training data to prevent data leakage\n",
    "scaler = StandardScaler()\n",
    "X_train_scaled = scaler.fit_transform(X_train)\n",
    "X_val_scaled = scaler.transform(X_val)\n",
    "X_test_scaled = scaler.transform(X_test)\n"
   ]
  },
  {
   "cell_type": "code",
   "execution_count": 29,
   "id": "b69d1057",
   "metadata": {},
   "outputs": [
    {
     "name": "stdout",
     "output_type": "stream",
     "text": [
      "Data loaded, split, and scaled successfully.\n",
      "Original number of features: 43\n"
     ]
    }
   ],
   "source": [
    "# Convert scaled arrays back to DataFrames (optional, but good for consistency)\n",
    "X_train_scaled_df = pd.DataFrame(X_train_scaled, columns=X.columns, index=X_train.index)\n",
    "X_val_scaled_df = pd.DataFrame(X_val_scaled, columns=X.columns, index=X_val.index)\n",
    "X_test_scaled_df = pd.DataFrame(X_test_scaled, columns=X.columns, index=X_test.index)\n",
    "\n",
    "print(\"Data loaded, split, and scaled successfully.\")\n",
    "print(f\"Original number of features: {X_train_scaled_df.shape[1]}\")"
   ]
  },
  {
   "cell_type": "markdown",
   "id": "f3b44b40",
   "metadata": {},
   "source": [
    "# --- 1. Processing Pipeline: Dimensionality Reduction (PCA) ---\n",
    "# PCA is used to reduce the number of features while retaining most of the variance.\n",
    "# This can help with model performance (speed, generalization) and reduce overfitting.\n",
    "# We'll choose a number of components that explains a significant portion of variance (e.g., 95%)\n",
    "# Or, you can set a fixed number of components. Let's start with a fixed number for demonstration.\n"
   ]
  },
  {
   "cell_type": "code",
   "execution_count": 30,
   "id": "6a4331eb",
   "metadata": {},
   "outputs": [],
   "source": [
    "# Initialize PCA - let's aim for 10 principal components as an example\n",
    "# You can analyze explained variance ratio to choose an optimal number.\n",
    "n_components = 10 # Example: reduce to 10 principal components\n",
    "pca = PCA(n_components=n_components, random_state=42)\n"
   ]
  },
  {
   "cell_type": "code",
   "execution_count": 31,
   "id": "00cc023b",
   "metadata": {},
   "outputs": [],
   "source": [
    "# Fit PCA only on the training data and transform all sets\n",
    "X_train_pca = pca.fit_transform(X_train_scaled_df)\n",
    "X_val_pca = pca.transform(X_val_scaled_df)\n",
    "X_test_pca = pca.transform(X_test_scaled_df)\n"
   ]
  },
  {
   "cell_type": "code",
   "execution_count": 32,
   "id": "7e9e9449",
   "metadata": {},
   "outputs": [
    {
     "name": "stdout",
     "output_type": "stream",
     "text": [
      "\n",
      "--- Dimensionality Reduction (PCA) ---\n",
      "Number of components selected: 10\n",
      "Explained variance ratio by selected components: 0.72\n",
      "X_train_pca shape: (11303, 10)\n",
      "X_val_pca shape: (2422, 10)\n",
      "X_test_pca shape: (2423, 10)\n"
     ]
    }
   ],
   "source": [
    "print(f\"\\n--- Dimensionality Reduction (PCA) ---\")\n",
    "print(f\"Number of components selected: {n_components}\")\n",
    "print(f\"Explained variance ratio by selected components: {pca.explained_variance_ratio_.sum():.2f}\")\n",
    "print(f\"X_train_pca shape: {X_train_pca.shape}\")\n",
    "print(f\"X_val_pca shape: {X_val_pca.shape}\")\n",
    "print(f\"X_test_pca shape: {X_test_pca.shape}\")\n"
   ]
  },
  {
   "cell_type": "markdown",
   "id": "4b6ee331",
   "metadata": {},
   "source": [
    "# --- 2. Model Training ---"
   ]
  },
  {
   "cell_type": "code",
   "execution_count": 33,
   "id": "9555ae33",
   "metadata": {},
   "outputs": [
    {
     "name": "stdout",
     "output_type": "stream",
     "text": [
      "\n",
      "--- Model Training ---\n"
     ]
    }
   ],
   "source": [
    "print(\"\\n--- Model Training ---\")"
   ]
  },
  {
   "cell_type": "code",
   "execution_count": 34,
   "id": "cc9dd7fe",
   "metadata": {},
   "outputs": [
    {
     "name": "stdout",
     "output_type": "stream",
     "text": [
      "\n",
      "Training Random Forest Classifier...\n",
      "Random Forest training complete.\n"
     ]
    }
   ],
   "source": [
    "# --- Model 1: Random Forest Classifier ---\n",
    "\n",
    "print(\"\\nTraining Random Forest Classifier...\")\n",
    "# RandomForest is an ensemble method that builds multiple decision trees.\n",
    "# It's robust to overfitting and works well with many features.\n",
    "rf_model = RandomForestClassifier(n_estimators=100, random_state=42, n_jobs=-1) # n_jobs=-1 uses all available cores\n",
    "rf_model.fit(X_train_pca, y_train)\n",
    "print(\"Random Forest training complete.\")"
   ]
  },
  {
   "cell_type": "code",
   "execution_count": 35,
   "id": "c5632282",
   "metadata": {},
   "outputs": [
    {
     "name": "stdout",
     "output_type": "stream",
     "text": [
      "Random Forest Validation Accuracy: 0.9851\n",
      "Random Forest Classification Report (Validation Set):\n",
      "               precision    recall  f1-score   support\n",
      "\n",
      "           0       0.98      0.98      0.98       865\n",
      "           1       0.99      0.99      0.99      1557\n",
      "\n",
      "    accuracy                           0.99      2422\n",
      "   macro avg       0.98      0.98      0.98      2422\n",
      "weighted avg       0.99      0.99      0.99      2422\n",
      "\n"
     ]
    }
   ],
   "source": [
    "# Evaluate Random Forest on the validation set\n",
    "y_val_pred_rf = rf_model.predict(X_val_pca)\n",
    "rf_accuracy = accuracy_score(y_val, y_val_pred_rf)\n",
    "print(f\"Random Forest Validation Accuracy: {rf_accuracy:.4f}\")\n",
    "print(\"Random Forest Classification Report (Validation Set):\\n\", classification_report(y_val, y_val_pred_rf))\n"
   ]
  },
  {
   "cell_type": "code",
   "execution_count": 36,
   "id": "59647e96",
   "metadata": {},
   "outputs": [
    {
     "name": "stdout",
     "output_type": "stream",
     "text": [
      "\n",
      "Training Support Vector Machine (SVM)...\n",
      "SVM training complete.\n"
     ]
    }
   ],
   "source": [
    "# --- Model 2: Support Vector Machine (SVM) ---\n",
    "print(\"\\nTraining Support Vector Machine (SVM)...\")\n",
    "# SVMs are powerful for classification by finding the optimal hyperplane that separates classes.\n",
    "# They can be computationally intensive for large datasets.\n",
    "svm_model = SVC(kernel='rbf', random_state=42, probability=True) # 'rbf' (Radial Basis Function) is a common kernel\n",
    "svm_model.fit(X_train_pca, y_train)\n",
    "print(\"SVM training complete.\")\n"
   ]
  },
  {
   "cell_type": "code",
   "execution_count": 37,
   "id": "e7a264e3",
   "metadata": {},
   "outputs": [
    {
     "name": "stdout",
     "output_type": "stream",
     "text": [
      "SVM Validation Accuracy: 0.9897\n",
      "SVM Classification Report (Validation Set):\n",
      "               precision    recall  f1-score   support\n",
      "\n",
      "           0       0.99      0.98      0.99       865\n",
      "           1       0.99      0.99      0.99      1557\n",
      "\n",
      "    accuracy                           0.99      2422\n",
      "   macro avg       0.99      0.99      0.99      2422\n",
      "weighted avg       0.99      0.99      0.99      2422\n",
      "\n"
     ]
    }
   ],
   "source": [
    "# Evaluate SVM on the validation set\n",
    "y_val_pred_svm = svm_model.predict(X_val_pca)\n",
    "svm_accuracy = accuracy_score(y_val, y_val_pred_svm)\n",
    "print(f\"SVM Validation Accuracy: {svm_accuracy:.4f}\")\n",
    "print(\"SVM Classification Report (Validation Set):\\n\", classification_report(y_val, y_val_pred_svm))\n"
   ]
  },
  {
   "cell_type": "code",
   "execution_count": 38,
   "id": "ad0d0f14",
   "metadata": {},
   "outputs": [
    {
     "name": "stdout",
     "output_type": "stream",
     "text": [
      "\n",
      "--- Model Evaluation on Test Set ---\n"
     ]
    }
   ],
   "source": [
    "# --- Model Evaluation and Comparison (on Test Set) ---\n",
    "print(\"\\n--- Model Evaluation on Test Set ---\")\n"
   ]
  },
  {
   "cell_type": "code",
   "execution_count": 39,
   "id": "888de1f5",
   "metadata": {},
   "outputs": [
    {
     "name": "stdout",
     "output_type": "stream",
     "text": [
      "\n",
      "Best model based on validation accuracy: SVM\n"
     ]
    }
   ],
   "source": [
    "# Select the best performing model based on validation accuracy\n",
    "if rf_accuracy >= svm_accuracy:\n",
    "    best_model = rf_model\n",
    "    best_model_name = \"Random Forest\"\n",
    "    X_test_final = X_test_pca\n",
    "    y_test_final = y_test\n",
    "else:\n",
    "    best_model = svm_model\n",
    "    best_model_name = \"SVM\"\n",
    "    X_test_final = X_test_pca\n",
    "    y_test_final = y_test\n",
    "\n",
    "print(f\"\\nBest model based on validation accuracy: {best_model_name}\")\n",
    "\n",
    "y_test_pred = best_model.predict(X_test_final)\n"
   ]
  },
  {
   "cell_type": "code",
   "execution_count": 40,
   "id": "b4c6f6b9",
   "metadata": {},
   "outputs": [],
   "source": [
    "# Calculate evaluation metrics\n",
    "test_accuracy = accuracy_score(y_test_final, y_test_pred)\n",
    "test_precision = precision_score(y_test_final, y_test_pred, average='weighted')\n",
    "test_recall = recall_score(y_test_final, y_test_pred, average='weighted')\n",
    "test_f1 = f1_score(y_test_final, y_test_pred, average='weighted')\n",
    "conf_matrix = confusion_matrix(y_test_final, y_test_pred)\n"
   ]
  },
  {
   "cell_type": "code",
   "execution_count": 41,
   "id": "bd9b60f5",
   "metadata": {},
   "outputs": [
    {
     "name": "stdout",
     "output_type": "stream",
     "text": [
      "\n",
      "SVM Test Accuracy: 0.9926\n",
      "SVM Test Precision: 0.9926\n",
      "SVM Test Recall: 0.9926\n",
      "SVM Test F1-Score: 0.9926\n",
      "\n",
      "SVM Confusion Matrix:\n",
      " [[ 858    8]\n",
      " [  10 1547]]\n"
     ]
    }
   ],
   "source": [
    "print(f\"\\n{best_model_name} Test Accuracy: {test_accuracy:.4f}\")\n",
    "print(f\"{best_model_name} Test Precision: {test_precision:.4f}\")\n",
    "print(f\"{best_model_name} Test Recall: {test_recall:.4f}\")\n",
    "print(f\"{best_model_name} Test F1-Score: {test_f1:.4f}\")\n",
    "print(f\"\\n{best_model_name} Confusion Matrix:\\n\", conf_matrix)"
   ]
  },
  {
   "cell_type": "code",
   "execution_count": 42,
   "id": "91e26259",
   "metadata": {},
   "outputs": [
    {
     "name": "stdout",
     "output_type": "stream",
     "text": [
      "Saved 'svm_confusion_matrix.png'.\n",
      "\n",
      "Classification Report for SVM (Test Set):\n",
      "               precision    recall  f1-score   support\n",
      "\n",
      "           0       0.99      0.99      0.99       866\n",
      "           1       0.99      0.99      0.99      1557\n",
      "\n",
      "    accuracy                           0.99      2423\n",
      "   macro avg       0.99      0.99      0.99      2423\n",
      "weighted avg       0.99      0.99      0.99      2423\n",
      "\n"
     ]
    },
    {
     "data": {
      "image/png": "[encoded data removed]",
      "text/plain": [
       "<Figure size 800x600 with 1 Axes>"
      ]
     },
     "metadata": {},
     "output_type": "display_data"
    }
   ],
   "source": [
    "# Visualize Confusion Matrix\n",
    "plt.figure(figsize=(8, 6))\n",
    "sns.heatmap(conf_matrix, annot=True, fmt='d', cmap='Blues', cbar=False,\n",
    "            xticklabels=['Predicted 0', 'Predicted 1'],\n",
    "            yticklabels=['Actual 0', 'Actual 1'])\n",
    "plt.title(f'Confusion Matrix for {best_model_name} (Test Set)')\n",
    "plt.xlabel('Predicted Label')\n",
    "plt.ylabel('True Label')\n",
    "plt.savefig(f'{best_model_name.lower().replace(\" \", \"_\")}_confusion_matrix.png')\n",
    "print(f\"Saved '{best_model_name.lower().replace(' ', '_')}_confusion_matrix.png'.\")\n",
    "\n",
    "print(f\"\\nClassification Report for {best_model_name} (Test Set):\\n\", classification_report(y_test_final, y_test_pred))\n"
   ]
  },
  {
   "cell_type": "code",
   "execution_count": 43,
   "id": "733a5a6c",
   "metadata": {},
   "outputs": [
    {
     "name": "stdout",
     "output_type": "stream",
     "text": [
      "\n",
      "--- Saving Trained Models ---\n"
     ]
    }
   ],
   "source": [
    "# --- 3. Save Trained Models ---\n",
    "print(\"\\n--- Saving Trained Models ---\")\n"
   ]
  },
  {
   "cell_type": "code",
   "execution_count": 44,
   "id": "b837313c",
   "metadata": {},
   "outputs": [
    {
     "name": "stdout",
     "output_type": "stream",
     "text": [
      "StandardScaler saved as 'scaler.joblib'\n"
     ]
    }
   ],
   "source": [
    "# Save the StandardScaler\n",
    "scaler_filename = 'scaler.joblib'\n",
    "joblib.dump(scaler, scaler_filename)\n",
    "print(f\"StandardScaler saved as '{scaler_filename}'\")"
   ]
  },
  {
   "cell_type": "code",
   "execution_count": 45,
   "id": "ba9a47a7",
   "metadata": {},
   "outputs": [
    {
     "name": "stdout",
     "output_type": "stream",
     "text": [
      "PCA model saved as 'pca.joblib'\n"
     ]
    }
   ],
   "source": [
    "# Save the PCA model\n",
    "pca_filename = 'pca.joblib'\n",
    "joblib.dump(pca, pca_filename)\n",
    "print(f\"PCA model saved as '{pca_filename}'\")\n"
   ]
  },
  {
   "cell_type": "code",
   "execution_count": 46,
   "id": "4eaa519d",
   "metadata": {},
   "outputs": [
    {
     "name": "stdout",
     "output_type": "stream",
     "text": [
      "Best model (SVM) saved as 'svm_model.joblib'\n"
     ]
    }
   ],
   "source": [
    "# Save the best performing classification model\n",
    "model_filename = f'{best_model_name.lower().replace(\" \", \"_\")}_model.joblib'\n",
    "joblib.dump(best_model, model_filename)\n",
    "print(f\"Best model ({best_model_name}) saved as '{model_filename}'\")\n",
    "# Save the training, validation, and test sets\n",
    "train_data_filename = 'train_data.csv'\n",
    "train_data = pd.DataFrame(X_train_pca, columns=[f'PC{i+1}' for i in range(X_train_pca.shape[1])])\n",
    "train_data['label'] = y_train.reset_index(drop=True)"
   ]
  }
 ],
 "metadata": {
  "kernelspec": {
   "display_name": "Python 3",
   "language": "python",
   "name": "python3"
  },
  "language_info": {
   "codemirror_mode": {
    "name": "ipython",
    "version": 3
   },
   "file_extension": ".py",
   "mimetype": "text/x-python",
   "name": "python",
   "nbconvert_exporter": "python",
   "pygments_lexer": "ipython3",
   "version": "3.13.7"
  }
 },
 "nbformat": 4,
 "nbformat_minor": 5
}
